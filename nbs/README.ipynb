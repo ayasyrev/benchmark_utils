{
 "cells": [
  {
   "cell_type": "markdown",
   "metadata": {},
   "source": [
    "---\n",
    "hide:\n",
    "  - navigation\n",
    "---"
   ]
  },
  {
   "cell_type": "markdown",
   "metadata": {},
   "source": [
    "# Benchmark utils"
   ]
  },
  {
   "cell_type": "markdown",
   "metadata": {},
   "source": [
    "Utils for benchmark - wrapper over python timeit."
   ]
  },
  {
   "cell_type": "markdown",
   "metadata": {},
   "source": [
    "[![PyPI - Python Version](https://img.shields.io/pypi/pyversions/benchmark-utils)](https://pypi.org/project/benchmark-utils/)\n",
    "[![PyPI Status](https://badge.fury.io/py/benchmark-utils.svg)](https://badge.fury.io/py/benchmark-utils)  \n",
    "[![Tests](https://github.com/ayasyrev/benchmark_utils/workflows/Tests/badge.svg)](https://github.com/ayasyrev/benchmark_utils/actions?workflow=Tests)  [![Codecov](https://codecov.io/gh/ayasyrev/benchmark_utils/branch/main/graph/badge.svg)](https://codecov.io/gh/ayasyrev/benchmark_utils)  "
   ]
  },
  {
   "cell_type": "markdown",
   "metadata": {},
   "source": [
    "Tested on python 3.7 - 3.12"
   ]
  },
  {
   "cell_type": "markdown",
   "metadata": {},
   "source": [
    "## Install"
   ]
  },
  {
   "cell_type": "markdown",
   "metadata": {},
   "source": [
    "Install from pypi:  \n",
    "\n",
    "`pip install benchmark_utils`\n",
    "\n",
    "Or install from github repo:\n",
    "\n",
    "`pip install git+https://github.com/ayasyrev/benchmark_utils.git`"
   ]
  },
  {
   "cell_type": "markdown",
   "metadata": {},
   "source": [
    "## Basic use."
   ]
  },
  {
   "cell_type": "markdown",
   "metadata": {},
   "source": [
    "Lets benchmark some (dummy) functions."
   ]
  },
  {
   "cell_type": "code",
   "execution_count": null,
   "metadata": {},
   "outputs": [],
   "source": [
    "from time import sleep\n",
    "\n",
    "\n",
    "def func_to_test_1(sleep_time: float = 0.1, mult: int = 1) -> None:\n",
    "    \"\"\"simple 'sleep' func for test\"\"\"\n",
    "    sleep(sleep_time * mult)\n",
    "\n",
    "\n",
    "def func_to_test_2(sleep_time: float = 0.11, mult: int = 1) -> None:\n",
    "    \"\"\"simple 'sleep' func for test\"\"\"\n",
    "    sleep(sleep_time * mult)"
   ]
  },
  {
   "cell_type": "markdown",
   "metadata": {},
   "source": [
    "Let's create benchmark."
   ]
  },
  {
   "cell_type": "code",
   "execution_count": null,
   "metadata": {},
   "outputs": [],
   "source": [
    "from benchmark_utils import Benchmark"
   ]
  },
  {
   "cell_type": "code",
   "execution_count": null,
   "metadata": {},
   "outputs": [],
   "source": [
    "bench = Benchmark(\n",
    "    [func_to_test_1, func_to_test_2],\n",
    ")"
   ]
  },
  {
   "cell_type": "code",
   "execution_count": null,
   "metadata": {},
   "outputs": [
    {
     "data": {
      "text/plain": [
       "Benchmark(func_to_test_1, func_to_test_2)"
      ]
     },
     "execution_count": null,
     "metadata": {},
     "output_type": "execute_result"
    }
   ],
   "source": [
    "bench"
   ]
  },
  {
   "cell_type": "markdown",
   "metadata": {},
   "source": [
    "Now we can benchmark that functions."
   ]
  },
  {
   "cell_type": "code",
   "execution_count": null,
   "metadata": {},
   "outputs": [
    {
     "data": {
      "application/vnd.jupyter.widget-view+json": {
       "model_id": "0332f5937a384cc7a3f13bc053ae3644",
       "version_major": 2,
       "version_minor": 0
      },
      "text/plain": [
       "Output()"
      ]
     },
     "metadata": {},
     "output_type": "display_data"
    },
    {
     "data": {
      "text/html": [
       "<pre style=\"white-space:pre;overflow-x:auto;line-height:normal;font-family:Menlo,'DejaVu Sans Mono',consolas,'Courier New',monospace\"></pre>\n"
      ],
      "text/plain": []
     },
     "metadata": {},
     "output_type": "display_data"
    },
    {
     "data": {
      "text/html": [
       "<pre style=\"white-space:pre;overflow-x:auto;line-height:normal;font-family:Menlo,'DejaVu Sans Mono',consolas,'Courier New',monospace\">\n",
       "</pre>\n"
      ],
      "text/plain": [
       "\n"
      ]
     },
     "metadata": {},
     "output_type": "display_data"
    },
    {
     "data": {
      "text/html": [
       "<pre style=\"white-space:pre;overflow-x:auto;line-height:normal;font-family:Menlo,'DejaVu Sans Mono',consolas,'Courier New',monospace\"> Func name  | Sec <span style=\"color: #800080; text-decoration-color: #800080\">/</span> run\n",
       "</pre>\n"
      ],
      "text/plain": [
       " Func name  | Sec \u001b[35m/\u001b[0m run\n"
      ]
     },
     "metadata": {},
     "output_type": "display_data"
    },
    {
     "data": {
      "text/html": [
       "<pre style=\"white-space:pre;overflow-x:auto;line-height:normal;font-family:Menlo,'DejaVu Sans Mono',consolas,'Courier New',monospace\">func_to_test_1:   <span style=\"color: #008080; text-decoration-color: #008080; font-weight: bold\">0.10</span> <span style=\"color: #008080; text-decoration-color: #008080; font-weight: bold\">0.0</span>%\n",
       "</pre>\n"
      ],
      "text/plain": [
       "func_to_test_1:   \u001b[1;36m0.10\u001b[0m \u001b[1;36m0.0\u001b[0m%\n"
      ]
     },
     "metadata": {},
     "output_type": "display_data"
    },
    {
     "data": {
      "text/html": [
       "<pre style=\"white-space:pre;overflow-x:auto;line-height:normal;font-family:Menlo,'DejaVu Sans Mono',consolas,'Courier New',monospace\">func_to_test_2:   <span style=\"color: #008080; text-decoration-color: #008080; font-weight: bold\">0.11</span> <span style=\"color: #008080; text-decoration-color: #008080; font-weight: bold\">-8.9</span>%\n",
       "</pre>\n"
      ],
      "text/plain": [
       "func_to_test_2:   \u001b[1;36m0.11\u001b[0m \u001b[1;36m-8.9\u001b[0m%\n"
      ]
     },
     "metadata": {},
     "output_type": "display_data"
    }
   ],
   "source": [
    "# we can run bench.run() or just:\n",
    "bench()"
   ]
  },
  {
   "cell_type": "markdown",
   "metadata": {},
   "source": [
    "We can run it again, all functions, some of it, exclude some and change number of repeats."
   ]
  },
  {
   "cell_type": "code",
   "execution_count": null,
   "metadata": {},
   "outputs": [
    {
     "data": {
      "application/vnd.jupyter.widget-view+json": {
       "model_id": "275454508db747e9830113d5db3a884d",
       "version_major": 2,
       "version_minor": 0
      },
      "text/plain": [
       "Output()"
      ]
     },
     "metadata": {},
     "output_type": "display_data"
    },
    {
     "data": {
      "text/html": [
       "<pre style=\"white-space:pre;overflow-x:auto;line-height:normal;font-family:Menlo,'DejaVu Sans Mono',consolas,'Courier New',monospace\"></pre>\n"
      ],
      "text/plain": []
     },
     "metadata": {},
     "output_type": "display_data"
    },
    {
     "data": {
      "text/html": [
       "<pre style=\"white-space:pre;overflow-x:auto;line-height:normal;font-family:Menlo,'DejaVu Sans Mono',consolas,'Courier New',monospace\">\n",
       "</pre>\n"
      ],
      "text/plain": [
       "\n"
      ]
     },
     "metadata": {},
     "output_type": "display_data"
    },
    {
     "data": {
      "text/html": [
       "<pre style=\"white-space:pre;overflow-x:auto;line-height:normal;font-family:Menlo,'DejaVu Sans Mono',consolas,'Courier New',monospace\"> Func name  | Sec <span style=\"color: #800080; text-decoration-color: #800080\">/</span> run\n",
       "</pre>\n"
      ],
      "text/plain": [
       " Func name  | Sec \u001b[35m/\u001b[0m run\n"
      ]
     },
     "metadata": {},
     "output_type": "display_data"
    },
    {
     "data": {
      "text/html": [
       "<pre style=\"white-space:pre;overflow-x:auto;line-height:normal;font-family:Menlo,'DejaVu Sans Mono',consolas,'Courier New',monospace\">func_to_test_1:   <span style=\"color: #008080; text-decoration-color: #008080; font-weight: bold\">0.10</span> <span style=\"color: #008080; text-decoration-color: #008080; font-weight: bold\">0.0</span>%\n",
       "</pre>\n"
      ],
      "text/plain": [
       "func_to_test_1:   \u001b[1;36m0.10\u001b[0m \u001b[1;36m0.0\u001b[0m%\n"
      ]
     },
     "metadata": {},
     "output_type": "display_data"
    },
    {
     "data": {
      "text/html": [
       "<pre style=\"white-space:pre;overflow-x:auto;line-height:normal;font-family:Menlo,'DejaVu Sans Mono',consolas,'Courier New',monospace\">func_to_test_2:   <span style=\"color: #008080; text-decoration-color: #008080; font-weight: bold\">0.11</span> <span style=\"color: #008080; text-decoration-color: #008080; font-weight: bold\">-9.3</span>%\n",
       "</pre>\n"
      ],
      "text/plain": [
       "func_to_test_2:   \u001b[1;36m0.11\u001b[0m \u001b[1;36m-9.3\u001b[0m%\n"
      ]
     },
     "metadata": {},
     "output_type": "display_data"
    }
   ],
   "source": [
    "bench.run(num_repeats=10)"
   ]
  },
  {
   "cell_type": "markdown",
   "metadata": {},
   "source": [
    "After run, we can prunt results - sorted or not, reversed, compare results with best or not. "
   ]
  },
  {
   "cell_type": "code",
   "execution_count": null,
   "metadata": {},
   "outputs": [
    {
     "data": {
      "text/html": [
       "<pre style=\"white-space:pre;overflow-x:auto;line-height:normal;font-family:Menlo,'DejaVu Sans Mono',consolas,'Courier New',monospace\"> Func name  | Sec <span style=\"color: #800080; text-decoration-color: #800080\">/</span> run\n",
       "</pre>\n"
      ],
      "text/plain": [
       " Func name  | Sec \u001b[35m/\u001b[0m run\n"
      ]
     },
     "metadata": {},
     "output_type": "display_data"
    },
    {
     "data": {
      "text/html": [
       "<pre style=\"white-space:pre;overflow-x:auto;line-height:normal;font-family:Menlo,'DejaVu Sans Mono',consolas,'Courier New',monospace\">func_to_test_2:   <span style=\"color: #008080; text-decoration-color: #008080; font-weight: bold\">0.11</span> <span style=\"color: #008080; text-decoration-color: #008080; font-weight: bold\">0.0</span>%\n",
       "</pre>\n"
      ],
      "text/plain": [
       "func_to_test_2:   \u001b[1;36m0.11\u001b[0m \u001b[1;36m0.0\u001b[0m%\n"
      ]
     },
     "metadata": {},
     "output_type": "display_data"
    },
    {
     "data": {
      "text/html": [
       "<pre style=\"white-space:pre;overflow-x:auto;line-height:normal;font-family:Menlo,'DejaVu Sans Mono',consolas,'Courier New',monospace\">func_to_test_1:   <span style=\"color: #008080; text-decoration-color: #008080; font-weight: bold\">0.10</span> <span style=\"color: #008080; text-decoration-color: #008080; font-weight: bold\">10.2</span>%\n",
       "</pre>\n"
      ],
      "text/plain": [
       "func_to_test_1:   \u001b[1;36m0.10\u001b[0m \u001b[1;36m10.2\u001b[0m%\n"
      ]
     },
     "metadata": {},
     "output_type": "display_data"
    }
   ],
   "source": [
    "bench.print_results(reverse=True)"
   ]
  },
  {
   "cell_type": "markdown",
   "metadata": {},
   "source": [
    "We can add functions to benchmark as list of functions (or partial) or as dictionary: `{\"name\": function}`."
   ]
  },
  {
   "cell_type": "code",
   "execution_count": null,
   "metadata": {},
   "outputs": [],
   "source": [
    "# hide\n",
    "from functools import partial"
   ]
  },
  {
   "cell_type": "code",
   "execution_count": null,
   "metadata": {},
   "outputs": [],
   "source": [
    "bench = Benchmark(\n",
    "    [\n",
    "        func_to_test_1,\n",
    "        partial(func_to_test_1, 0.12),\n",
    "        partial(func_to_test_1, sleep_time=0.11),\n",
    "    ]\n",
    ")"
   ]
  },
  {
   "cell_type": "code",
   "execution_count": null,
   "metadata": {},
   "outputs": [
    {
     "data": {
      "text/plain": [
       "Benchmark(func_to_test_1, func_to_test_1(0.12), func_to_test_1(sleep_time=0.11))"
      ]
     },
     "execution_count": null,
     "metadata": {},
     "output_type": "execute_result"
    }
   ],
   "source": [
    "bench"
   ]
  },
  {
   "cell_type": "code",
   "execution_count": null,
   "metadata": {},
   "outputs": [
    {
     "data": {
      "application/vnd.jupyter.widget-view+json": {
       "model_id": "7364269e184b48f6a7580959dc15fba8",
       "version_major": 2,
       "version_minor": 0
      },
      "text/plain": [
       "Output()"
      ]
     },
     "metadata": {},
     "output_type": "display_data"
    },
    {
     "data": {
      "text/html": [
       "<pre style=\"white-space:pre;overflow-x:auto;line-height:normal;font-family:Menlo,'DejaVu Sans Mono',consolas,'Courier New',monospace\"></pre>\n"
      ],
      "text/plain": []
     },
     "metadata": {},
     "output_type": "display_data"
    },
    {
     "data": {
      "text/html": [
       "<pre style=\"white-space:pre;overflow-x:auto;line-height:normal;font-family:Menlo,'DejaVu Sans Mono',consolas,'Courier New',monospace\">\n",
       "</pre>\n"
      ],
      "text/plain": [
       "\n"
      ]
     },
     "metadata": {},
     "output_type": "display_data"
    },
    {
     "data": {
      "text/html": [
       "<pre style=\"white-space:pre;overflow-x:auto;line-height:normal;font-family:Menlo,'DejaVu Sans Mono',consolas,'Courier New',monospace\"> Func name  | Sec <span style=\"color: #800080; text-decoration-color: #800080\">/</span> run\n",
       "</pre>\n"
      ],
      "text/plain": [
       " Func name  | Sec \u001b[35m/\u001b[0m run\n"
      ]
     },
     "metadata": {},
     "output_type": "display_data"
    },
    {
     "data": {
      "text/html": [
       "<pre style=\"white-space:pre;overflow-x:auto;line-height:normal;font-family:Menlo,'DejaVu Sans Mono',consolas,'Courier New',monospace\">func_to_test_1:   <span style=\"color: #008080; text-decoration-color: #008080; font-weight: bold\">0.10</span> <span style=\"color: #008080; text-decoration-color: #008080; font-weight: bold\">0.0</span>%\n",
       "</pre>\n"
      ],
      "text/plain": [
       "func_to_test_1:   \u001b[1;36m0.10\u001b[0m \u001b[1;36m0.0\u001b[0m%\n"
      ]
     },
     "metadata": {},
     "output_type": "display_data"
    },
    {
     "data": {
      "text/html": [
       "<pre style=\"white-space:pre;overflow-x:auto;line-height:normal;font-family:Menlo,'DejaVu Sans Mono',consolas,'Courier New',monospace\"><span style=\"color: #800080; text-decoration-color: #800080; font-weight: bold\">func_to_test_1</span><span style=\"font-weight: bold\">(</span><span style=\"color: #808000; text-decoration-color: #808000\">sleep_time</span>=<span style=\"color: #008080; text-decoration-color: #008080; font-weight: bold\">0.11</span><span style=\"font-weight: bold\">)</span>:   <span style=\"color: #008080; text-decoration-color: #008080; font-weight: bold\">0.11</span> <span style=\"color: #008080; text-decoration-color: #008080; font-weight: bold\">-8.8</span>%\n",
       "</pre>\n"
      ],
      "text/plain": [
       "\u001b[1;35mfunc_to_test_1\u001b[0m\u001b[1m(\u001b[0m\u001b[33msleep_time\u001b[0m=\u001b[1;36m0\u001b[0m\u001b[1;36m.11\u001b[0m\u001b[1m)\u001b[0m:   \u001b[1;36m0.11\u001b[0m \u001b[1;36m-8.8\u001b[0m%\n"
      ]
     },
     "metadata": {},
     "output_type": "display_data"
    },
    {
     "data": {
      "text/html": [
       "<pre style=\"white-space:pre;overflow-x:auto;line-height:normal;font-family:Menlo,'DejaVu Sans Mono',consolas,'Courier New',monospace\"><span style=\"color: #800080; text-decoration-color: #800080; font-weight: bold\">func_to_test_1</span><span style=\"font-weight: bold\">(</span><span style=\"color: #008080; text-decoration-color: #008080; font-weight: bold\">0.12</span><span style=\"font-weight: bold\">)</span>:   <span style=\"color: #008080; text-decoration-color: #008080; font-weight: bold\">0.12</span> <span style=\"color: #008080; text-decoration-color: #008080; font-weight: bold\">-16.4</span>%\n",
       "</pre>\n"
      ],
      "text/plain": [
       "\u001b[1;35mfunc_to_test_1\u001b[0m\u001b[1m(\u001b[0m\u001b[1;36m0.12\u001b[0m\u001b[1m)\u001b[0m:   \u001b[1;36m0.12\u001b[0m \u001b[1;36m-16.4\u001b[0m%\n"
      ]
     },
     "metadata": {},
     "output_type": "display_data"
    }
   ],
   "source": [
    "bench.run()"
   ]
  },
  {
   "cell_type": "code",
   "execution_count": null,
   "metadata": {},
   "outputs": [],
   "source": [
    "bench = Benchmark(\n",
    "    {\n",
    "        \"func_1\": func_to_test_1,\n",
    "        \"func_2\": func_to_test_2,\n",
    "    }\n",
    ")"
   ]
  },
  {
   "cell_type": "code",
   "execution_count": null,
   "metadata": {},
   "outputs": [
    {
     "data": {
      "text/plain": [
       "Benchmark(func_1, func_2)"
      ]
     },
     "execution_count": null,
     "metadata": {},
     "output_type": "execute_result"
    }
   ],
   "source": [
    "bench"
   ]
  },
  {
   "cell_type": "markdown",
   "metadata": {},
   "source": [
    "When we run benchmark script in terminal, we got pretty progress thanks to rich. Lets run example_1.py from example folder:"
   ]
  },
  {
   "cell_type": "markdown",
   "metadata": {},
   "source": [
    "![exaple_1](images/run_example_1.gif)"
   ]
  },
  {
   "cell_type": "markdown",
   "metadata": {},
   "source": [
    "# BenchmarkIter"
   ]
  },
  {
   "cell_type": "markdown",
   "metadata": {},
   "source": [
    "With BenchmarkIter we can benchmark functions over iterables, for example read list of files or run functions with different arguments."
   ]
  },
  {
   "cell_type": "code",
   "execution_count": null,
   "metadata": {},
   "outputs": [],
   "source": [
    "def func_to_test_1(x: int) -> None:\n",
    "    \"\"\"simple 'sleep' func for test\"\"\"\n",
    "    sleep(0.01)\n",
    "\n",
    "\n",
    "def func_to_test_2(x: int) -> None:\n",
    "    \"\"\"simple 'sleep' func for test\"\"\"\n",
    "    sleep(0.015)\n",
    "\n",
    "\n",
    "dummy_params = list(range(10))"
   ]
  },
  {
   "cell_type": "code",
   "execution_count": null,
   "metadata": {},
   "outputs": [],
   "source": [
    "from benchmark_utils import BenchmarkIter\n",
    "\n",
    "bench = BenchmarkIter(\n",
    "    func=[func_to_test_1, func_to_test_2],\n",
    "    item_list=dummy_params,\n",
    ")"
   ]
  },
  {
   "cell_type": "code",
   "execution_count": null,
   "metadata": {},
   "outputs": [
    {
     "data": {
      "application/vnd.jupyter.widget-view+json": {
       "model_id": "797be3b79fd84b578c4d88638cedf9fa",
       "version_major": 2,
       "version_minor": 0
      },
      "text/plain": [
       "Output()"
      ]
     },
     "metadata": {},
     "output_type": "display_data"
    },
    {
     "data": {
      "text/html": [
       "<pre style=\"white-space:pre;overflow-x:auto;line-height:normal;font-family:Menlo,'DejaVu Sans Mono',consolas,'Courier New',monospace\"></pre>\n"
      ],
      "text/plain": []
     },
     "metadata": {},
     "output_type": "display_data"
    },
    {
     "data": {
      "text/html": [
       "<pre style=\"white-space:pre;overflow-x:auto;line-height:normal;font-family:Menlo,'DejaVu Sans Mono',consolas,'Courier New',monospace\">\n",
       "</pre>\n"
      ],
      "text/plain": [
       "\n"
      ]
     },
     "metadata": {},
     "output_type": "display_data"
    },
    {
     "data": {
      "text/html": [
       "<pre style=\"white-space:pre;overflow-x:auto;line-height:normal;font-family:Menlo,'DejaVu Sans Mono',consolas,'Courier New',monospace\"> Func name  | Items/sec\n",
       "</pre>\n"
      ],
      "text/plain": [
       " Func name  | Items/sec\n"
      ]
     },
     "metadata": {},
     "output_type": "display_data"
    },
    {
     "data": {
      "text/html": [
       "<pre style=\"white-space:pre;overflow-x:auto;line-height:normal;font-family:Menlo,'DejaVu Sans Mono',consolas,'Courier New',monospace\">func_to_test_1:  <span style=\"color: #008080; text-decoration-color: #008080; font-weight: bold\">91.83</span>\n",
       "</pre>\n"
      ],
      "text/plain": [
       "func_to_test_1:  \u001b[1;36m91.83\u001b[0m\n"
      ]
     },
     "metadata": {},
     "output_type": "display_data"
    },
    {
     "data": {
      "text/html": [
       "<pre style=\"white-space:pre;overflow-x:auto;line-height:normal;font-family:Menlo,'DejaVu Sans Mono',consolas,'Courier New',monospace\">func_to_test_2:  <span style=\"color: #008080; text-decoration-color: #008080; font-weight: bold\">62.89</span>\n",
       "</pre>\n"
      ],
      "text/plain": [
       "func_to_test_2:  \u001b[1;36m62.89\u001b[0m\n"
      ]
     },
     "metadata": {},
     "output_type": "display_data"
    }
   ],
   "source": [
    "bench()"
   ]
  },
  {
   "cell_type": "markdown",
   "metadata": {},
   "source": [
    "We can run it again, all functions, some of it, exclude some and change number of repeats.\n",
    "And we can limit number of items with `num_samples` argument:\n",
    "`bench.run(num_samples=5)`"
   ]
  },
  {
   "cell_type": "markdown",
   "metadata": {},
   "source": [
    "# Multiprocessing"
   ]
  },
  {
   "cell_type": "markdown",
   "metadata": {},
   "source": [
    "By default we tun functions in one thread.  \n",
    "But we can use multiprocessing with `multiprocessing=True` argument:\n",
    "`bench.run(multiprocessing=True)`\n",
    "It will use all available cpu cores.\n",
    "And we can use `num_workers` argument to limit used cpu cores:\n",
    "`bench.run(multiprocessing=True, num_workers=2)`"
   ]
  },
  {
   "cell_type": "code",
   "execution_count": null,
   "metadata": {},
   "outputs": [
    {
     "data": {
      "application/vnd.jupyter.widget-view+json": {
       "model_id": "3ad2367828794daf934d2f7c08a4e872",
       "version_major": 2,
       "version_minor": 0
      },
      "text/plain": [
       "Output()"
      ]
     },
     "metadata": {},
     "output_type": "display_data"
    },
    {
     "data": {
      "text/html": [
       "<pre style=\"white-space:pre;overflow-x:auto;line-height:normal;font-family:Menlo,'DejaVu Sans Mono',consolas,'Courier New',monospace\"></pre>\n"
      ],
      "text/plain": []
     },
     "metadata": {},
     "output_type": "display_data"
    },
    {
     "data": {
      "text/html": [
       "<pre style=\"white-space:pre;overflow-x:auto;line-height:normal;font-family:Menlo,'DejaVu Sans Mono',consolas,'Courier New',monospace\">\n",
       "</pre>\n"
      ],
      "text/plain": [
       "\n"
      ]
     },
     "metadata": {},
     "output_type": "display_data"
    },
    {
     "data": {
      "text/html": [
       "<pre style=\"white-space:pre;overflow-x:auto;line-height:normal;font-family:Menlo,'DejaVu Sans Mono',consolas,'Courier New',monospace\"> Func name  | Items/sec\n",
       "</pre>\n"
      ],
      "text/plain": [
       " Func name  | Items/sec\n"
      ]
     },
     "metadata": {},
     "output_type": "display_data"
    },
    {
     "data": {
      "text/html": [
       "<pre style=\"white-space:pre;overflow-x:auto;line-height:normal;font-family:Menlo,'DejaVu Sans Mono',consolas,'Courier New',monospace\">func_to_test_1: <span style=\"color: #008080; text-decoration-color: #008080; font-weight: bold\">112.52</span>\n",
       "</pre>\n"
      ],
      "text/plain": [
       "func_to_test_1: \u001b[1;36m112.52\u001b[0m\n"
      ]
     },
     "metadata": {},
     "output_type": "display_data"
    },
    {
     "data": {
      "text/html": [
       "<pre style=\"white-space:pre;overflow-x:auto;line-height:normal;font-family:Menlo,'DejaVu Sans Mono',consolas,'Courier New',monospace\">func_to_test_2:  <span style=\"color: #008080; text-decoration-color: #008080; font-weight: bold\">90.59</span>\n",
       "</pre>\n"
      ],
      "text/plain": [
       "func_to_test_2:  \u001b[1;36m90.59\u001b[0m\n"
      ]
     },
     "metadata": {},
     "output_type": "display_data"
    }
   ],
   "source": [
    "bench.run(multiprocessing=True, num_workers=2)"
   ]
  },
  {
   "cell_type": "code",
   "execution_count": 20,
   "metadata": {},
   "outputs": [
    {
     "data": {
      "text/plain": [
       "1.0970004550158379"
      ]
     },
     "execution_count": 20,
     "metadata": {},
     "output_type": "execute_result"
    }
   ],
   "source": [
    "0.1022316165981465 / 0.09319195459829643"
   ]
  },
  {
   "cell_type": "code",
   "execution_count": null,
   "metadata": {},
   "outputs": [],
   "source": []
  }
 ],
 "metadata": {
  "kernelspec": {
   "display_name": "pt21",
   "language": "python",
   "name": "python3"
  },
  "language_info": {
   "name": "python",
   "version": "3.11.6"
  }
 },
 "nbformat": 4,
 "nbformat_minor": 4
}
